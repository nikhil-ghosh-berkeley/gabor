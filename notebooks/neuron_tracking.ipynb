{
 "cells": [
  {
   "cell_type": "code",
   "execution_count": 33,
   "metadata": {},
   "outputs": [],
   "source": [
    "import sys; sys.path.append('..')\n",
    "\n",
    "import torch\n",
    "import numpy as np\n",
    "import matplotlib.pyplot as plt\n",
    "import os\n",
    "from os.path import join as pjoin\n",
    "import torch.nn.functional as F\n",
    "\n",
    "from src.visualize import visualize_fc_weights\n"
   ]
  },
  {
   "cell_type": "code",
   "execution_count": 2,
   "metadata": {},
   "outputs": [],
   "source": [
    "dict_type = \"gabor\"\n",
    "patch_height = 12\n",
    "patch_width = 12\n",
    "m = 40\n",
    "L = 8\n",
    "inc = 3.5\n",
    "\n",
    "dict_loc = f\"{dict_type}_{patch_width}x{patch_height}_m={m}_L={L}_inc={inc}.pt\"\n",
    "\n",
    "seed = 1\n",
    "k = 10\n",
    "noise = 0.0\n",
    "width = 40\n",
    "bs = 32\n",
    "sigma = 0.5\n",
    "act = \"ReLU\"\n",
    "tied = True\n",
    "lr = 2\n",
    "alg = \"sgd\"\n",
    "\n",
    "data_dir = f\"{dict_loc}_k={k}_noise={noise}\"\n",
    "arch_dir = f\"fc_width={width}_act={act}_tied={tied}\"\n"
   ]
  },
  {
   "cell_type": "code",
   "execution_count": 3,
   "metadata": {},
   "outputs": [],
   "source": [
    "def get_weights_loc(epoch):\n",
    "    exp_dir = f\"fc_{alg}_lr={lr}_bs={bs}_sigma={sigma}_epoch={epoch}_seed={seed}.pt\"\n",
    "    weights_loc = pjoin(\"../saved_weights\", data_dir, arch_dir, exp_dir)\n",
    "    return weights_loc\n",
    "\n",
    "def get_dict_loc():\n",
    "    return pjoin(\"../dictionaries\", dict_loc)\n",
    "\n",
    "def corr_mat(X, Y):\n",
    "    return F.normalize(X) @ F.normalize(Y).T"
   ]
  },
  {
   "cell_type": "code",
   "execution_count": 4,
   "metadata": {},
   "outputs": [
    {
     "name": "stdout",
     "output_type": "stream",
     "text": [
      "../saved_weights/gabor_12x12_m=40_L=8_inc=3.5.pt_k=10_noise=0.0/fc_width=40_act=ReLU_tied=True/fc_sgd_lr=2_bs=32_sigma=0.5_epoch=0_seed=1.pt\n",
      "../dictionaries/gabor_12x12_m=40_L=8_inc=3.5.pt\n"
     ]
    }
   ],
   "source": [
    "print(get_weights_loc(0))\n",
    "print(get_dict_loc())"
   ]
  },
  {
   "cell_type": "code",
   "execution_count": 5,
   "metadata": {},
   "outputs": [],
   "source": [
    "W0 = torch.load(get_weights_loc(0), map_location=torch.device(\"cpu\"))['W']\n",
    "W1 = torch.load(get_weights_loc(1), map_location=torch.device(\"cpu\"))['W']\n",
    "dictionary = torch.load(get_dict_loc())\n",
    "\n",
    "corr0 = corr_mat(dictionary, W0)\n",
    "corr1 = corr_mat(dictionary, W1)\n"
   ]
  },
  {
   "cell_type": "code",
   "execution_count": 6,
   "metadata": {},
   "outputs": [
    {
     "name": "stdout",
     "output_type": "stream",
     "text": [
      "40\n"
     ]
    }
   ],
   "source": [
    "count = 0\n",
    "for i in range(m):\n",
    "    amax = torch.argmax(torch.abs(corr1[i]))\n",
    "    if corr1[i][amax] > 0.95:\n",
    "        count += 1\n",
    "print(count)"
   ]
  },
  {
   "cell_type": "code",
   "execution_count": 43,
   "metadata": {},
   "outputs": [
    {
     "name": "stdout",
     "output_type": "stream",
     "text": [
      "tensor(36) tensor(0.1543) tensor(-0.0123)\n",
      "tensor(20) tensor(-0.1211) tensor(0.9930)\n"
     ]
    },
    {
     "data": {
      "image/png": "[encoded data removed]",
      "text/plain": [
       "<Figure size 432x288 with 1 Axes>"
      ]
     },
     "metadata": {
      "needs_background": "light"
     },
     "output_type": "display_data"
    }
   ],
   "source": [
    "# j = 29, 34\n",
    "j = 29\n",
    "\n",
    "plt.bar(np.arange(m), corr0[j].numpy(), alpha=0.75, label=\"init\")\n",
    "plt.bar(np.arange(m), corr1[j].numpy(), alpha=0.75, label=\"epoch = 1\")\n",
    "plt.legend()\n",
    "\n",
    "amax0 = torch.argmax(corr0[j])\n",
    "amax1 = torch.argmax(corr1[j])\n",
    "\n",
    "print(amax0, corr0[j][amax0], corr1[j][amax0])\n",
    "print(amax1, corr0[j][amax1], corr1[j][amax1])"
   ]
  },
  {
   "cell_type": "code",
   "execution_count": 41,
   "metadata": {},
   "outputs": [
    {
     "name": "stdout",
     "output_type": "stream",
     "text": [
      "tensor([0.9750, 0.2000, 0.9500, 0.9000, 1.0000, 0.9500, 0.9000, 1.0000, 0.9750,\n",
      "        1.0000, 1.0000, 1.0000, 1.0000, 0.8500, 1.0000, 0.9750, 1.0000, 1.0000,\n",
      "        0.9750, 0.9250, 0.8750, 0.9750, 1.0000, 1.0000, 0.9250, 0.9750, 0.9750,\n",
      "        0.9500, 1.0000, 0.1000, 0.9750, 0.9500, 0.8000, 0.9000, 0.6750, 0.8500,\n",
      "        1.0000, 1.0000, 0.9750, 0.9000])\n",
      "tensor([0.0500, 0.8250, 0.0750, 0.1250, 0.0250, 0.0750, 0.1250, 0.0250, 0.0500,\n",
      "        0.0250, 0.0250, 0.0250, 0.0250, 0.1750, 0.0250, 0.0500, 0.0250, 0.0250,\n",
      "        0.0500, 0.1000, 0.1500, 0.0500, 0.0250, 0.0250, 0.1000, 0.0500, 0.0500,\n",
      "        0.0750, 0.0250, 0.9250, 0.0500, 0.0750, 0.2250, 0.1250, 0.3500, 0.1750,\n",
      "        0.0250, 0.0250, 0.0500, 0.1250])\n",
      "tensor([0.9750, 0.8250, 0.9500, 0.9000, 1.0000, 0.9500, 0.9000, 1.0000, 0.9750,\n",
      "        1.0000, 1.0000, 1.0000, 1.0000, 0.8500, 1.0000, 0.9750, 1.0000, 1.0000,\n",
      "        0.9750, 0.9250, 0.8750, 0.9750, 1.0000, 1.0000, 0.9250, 0.9750, 0.9750,\n",
      "        0.9500, 1.0000, 0.9250, 0.9750, 0.9500, 0.8000, 0.9000, 0.6750, 0.8500,\n",
      "        1.0000, 1.0000, 0.9750, 0.9000])\n",
      "tensor([0.9000, 0.6750, 0.8750, 0.8250, 0.9500, 0.9250, 0.7750, 1.0000, 0.9500,\n",
      "        0.9750, 0.9750, 1.0000, 1.0000, 0.7500, 0.9750, 0.9500, 1.0000, 0.9750,\n",
      "        0.9750, 0.8000, 0.7750, 0.9500, 0.9250, 1.0000, 0.9000, 0.9750, 0.9250,\n",
      "        0.9250, 1.0000, 0.7500, 0.9500, 0.9250, 0.7750, 0.8250, 0.4500, 0.7750,\n",
      "        1.0000, 1.0000, 0.8750, 0.7750])\n",
      "tensor(29)\n"
     ]
    }
   ],
   "source": [
    "pos_ranks = torch.zeros(m)\n",
    "neg_ranks = torch.zeros(m)\n",
    "abs_ranks = torch.zeros(m)\n",
    "\n",
    "for j in range(m):\n",
    "    amax1 = torch.argmax(corr1[j])\n",
    "    val = corr0[j][amax1]\n",
    "    pos_ranks[j] = torch.mean((val >= corr0[j]).float())\n",
    "    neg_ranks[j] = torch.mean((val <= corr0[j]).float())\n",
    "    abs_ranks[j] = torch.mean((torch.abs(val) >= torch.abs(corr0[j])).float())\n",
    "\n",
    "print(pos_ranks)\n",
    "print(neg_ranks)\n",
    "print(torch.maximum(pos_ranks, neg_ranks))\n",
    "print(abs_ranks)\n",
    "\n",
    "j_star = torch.argmin(abs_ranks)\n",
    "print(j_star)\n"
   ]
  },
  {
   "cell_type": "code",
   "execution_count": null,
   "metadata": {},
   "outputs": [],
   "source": []
  }
 ],
 "metadata": {
  "interpreter": {
   "hash": "738873fe7bbe04e6511aef90189a243d2c17f686af80df3091b2edd3879ec2ed"
  },
  "kernelspec": {
   "display_name": "Python 3.8.3 ('deep-learning': virtualenv)",
   "language": "python",
   "name": "python3"
  },
  "language_info": {
   "codemirror_mode": {
    "name": "ipython",
    "version": 3
   },
   "file_extension": ".py",
   "mimetype": "text/x-python",
   "name": "python",
   "nbconvert_exporter": "python",
   "pygments_lexer": "ipython3",
   "version": "3.8.3"
  },
  "orig_nbformat": 4
 },
 "nbformat": 4,
 "nbformat_minor": 2
}
